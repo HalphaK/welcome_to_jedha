{
 "cells": [
  {
   "cell_type": "code",
   "execution_count": 33,
   "metadata": {},
   "outputs": [
    {
     "name": "stdout",
     "output_type": "stream",
     "text": [
      "Quel montant investir: 2\n",
      "À quel taux: 2\n",
      "Sur combien d'années: 2\n"
     ]
    },
    {
     "data": {
      "text/plain": [
       "16.0"
      ]
     },
     "execution_count": 33,
     "metadata": {},
     "output_type": "execute_result"
    }
   ],
   "source": [
    "def interets():\n",
    "\n",
    "    amount=int(input('Quel montant investir: '))\n",
    "\n",
    "    rate=float(input('À quel taux: '))\n",
    "\n",
    "    years=int(input(\"Sur combien d'années: \"))\n",
    "\n",
    "    resultat=(amount*(1+rate)**years)-amount\n",
    "                \n",
    "    return(resultat)\n",
    "\n",
    "interets()"
   ]
  },
  {
   "cell_type": "code",
   "execution_count": null,
   "metadata": {},
   "outputs": [],
   "source": []
  },
  {
   "cell_type": "code",
   "execution_count": null,
   "metadata": {},
   "outputs": [],
   "source": []
  }
 ],
 "metadata": {
  "kernelspec": {
   "display_name": "Python 3",
   "language": "python",
   "name": "python3"
  },
  "language_info": {
   "codemirror_mode": {
    "name": "ipython",
    "version": 3
   },
   "file_extension": ".py",
   "mimetype": "text/x-python",
   "name": "python",
   "nbconvert_exporter": "python",
   "pygments_lexer": "ipython3",
   "version": "3.7.0"
  }
 },
 "nbformat": 4,
 "nbformat_minor": 2
}
